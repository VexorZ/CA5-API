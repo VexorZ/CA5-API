{
  "nbformat": 4,
  "nbformat_minor": 0,
  "metadata": {
    "colab": {
      "provenance": [],
      "mount_file_id": "1LKsoJpnOcCKJ0eZVNdMycoik7Z9Luvem",
      "authorship_tag": "ABX9TyMZwZBuvpwircZdg+LoUEMC"
    },
    "kernelspec": {
      "name": "python3",
      "display_name": "Python 3"
    },
    "language_info": {
      "name": "python"
    }
  },
  "cells": [
    {
      "cell_type": "code",
      "source": [
        "import pandas as pd\n",
        "%matplotlib inline\n",
        "import numpy as np\n",
        "import matplotlib.pyplot as plt\n",
        "from sklearn.feature_extraction.text import CountVectorizer\n",
        "import nltk\n",
        "from sklearn.tree import DecisionTreeClassifier\n",
        "from collections import Counter\n",
        "import matplotlib.pyplot as plt\n",
        "import keras\n",
        "\n"
      ],
      "metadata": {
        "id": "ddl9_zj3G8An"
      },
      "execution_count": 1,
      "outputs": []
    },
    {
      "cell_type": "code",
      "source": [
        "from google.colab import drive\n",
        "drive.mount('/content/drive/')"
      ],
      "metadata": {
        "id": "SSo3Rz9W7i_j"
      },
      "execution_count": null,
      "outputs": []
    },
    {
      "cell_type": "code",
      "source": [
        "data_folder_path = '/content/drive/My Drive/Data'"
      ],
      "metadata": {
        "id": "4dixx__C7mN1"
      },
      "execution_count": null,
      "outputs": []
    },
    {
      "cell_type": "code",
      "source": [
        "# build analyzers (bag-of-words)\n",
        "BOW_vectorizer = CountVectorizer()"
      ],
      "metadata": {
        "id": "p0zLm8JF7mRB"
      },
      "execution_count": null,
      "outputs": []
    },
    {
      "cell_type": "code",
      "source": [
        "BOW_500 = CountVectorizer(max_features=500, tokenizer=nltk.word_tokenize)"
      ],
      "metadata": {
        "id": "P_ohTX0e7mUV"
      },
      "execution_count": null,
      "outputs": []
    },
    {
      "cell_type": "code",
      "source": [
        "#Import JSON File\n",
        "\n",
        "import json\n",
        "\n",
        "# Opening JSON file\n",
        "tweets = []\n",
        "for line in open('/content/drive/My Drive/Data/tweets_DM.json', 'r'):\n",
        "    tweets.append(json.loads(line))"
      ],
      "metadata": {
        "id": "0V_hdugI7mXu"
      },
      "execution_count": null,
      "outputs": []
    },
    {
      "cell_type": "code",
      "source": [
        "df = pd.DataFrame(tweets)"
      ],
      "metadata": {
        "id": "6eHj7dJ07mbW"
      },
      "execution_count": null,
      "outputs": []
    },
    {
      "cell_type": "code",
      "source": [
        "df"
      ],
      "metadata": {
        "id": "VsvCHIg_8F0I"
      },
      "execution_count": null,
      "outputs": []
    },
    {
      "cell_type": "code",
      "source": [
        "#Remove -type column\n",
        "df = df.drop('_type', axis=1)"
      ],
      "metadata": {
        "id": "l1U7yjMI8F2v"
      },
      "execution_count": null,
      "outputs": []
    },
    {
      "cell_type": "code",
      "source": [
        "df = df.drop('_index', axis=1)"
      ],
      "metadata": {
        "id": "0WoOe4TO8F55"
      },
      "execution_count": null,
      "outputs": []
    },
    {
      "cell_type": "code",
      "source": [
        "df"
      ],
      "metadata": {
        "id": "Ji2mWO3G7meW"
      },
      "execution_count": null,
      "outputs": []
    },
    {
      "cell_type": "code",
      "source": [
        "df_flatten = pd.DataFrame(df._source.values.tolist())\n",
        "df_new = pd.DataFrame(df_flatten.tweet.values.tolist())"
      ],
      "metadata": {
        "id": "ypd_TZMw7mhl"
      },
      "execution_count": null,
      "outputs": []
    },
    {
      "cell_type": "code",
      "source": [
        "df_new"
      ],
      "metadata": {
        "id": "yIAlxyK87mkr"
      },
      "execution_count": null,
      "outputs": []
    },
    {
      "cell_type": "code",
      "source": [
        "data_identification = pd.read_csv('/content/drive/My Drive/Data/data_identification.csv')\n",
        "emotion = pd.read_csv('/content/drive/MyDrive/Data/emotion.csv')"
      ],
      "metadata": {
        "id": "jS_PUHS68RKc"
      },
      "execution_count": null,
      "outputs": []
    },
    {
      "cell_type": "code",
      "source": [
        "df_merge = pd.merge(df_new, data_identification, on=['tweet_id'])"
      ],
      "metadata": {
        "id": "ORGdgPGR8RNM"
      },
      "execution_count": null,
      "outputs": []
    },
    {
      "cell_type": "code",
      "source": [
        "train_df = df_merge[df_merge['identification'] == 'train']\n",
        "test_df = df_merge[df_merge['identification'] == 'test']"
      ],
      "metadata": {
        "id": "E6R70k1y8RPr"
      },
      "execution_count": null,
      "outputs": []
    },
    {
      "cell_type": "code",
      "source": [
        "train_df = pd.merge(train_df, emotion, on=['tweet_id'])"
      ],
      "metadata": {
        "id": "8LQ8McFk8RSp"
      },
      "execution_count": null,
      "outputs": []
    },
    {
      "cell_type": "code",
      "source": [
        "train_df.to_pickle(\"train_df.pkl\")\n",
        "test_df.to_pickle(\"test_df.pkl\")"
      ],
      "metadata": {
        "id": "dfpRx2Qi8RVb"
      },
      "execution_count": null,
      "outputs": []
    },
    {
      "cell_type": "code",
      "source": [
        "train_df = pd.read_pickle(\"train_df.pkl\")\n",
        "test_df = pd.read_pickle(\"test_df.pkl\")"
      ],
      "metadata": {
        "id": "zJq0Hh_H8RYq"
      },
      "execution_count": null,
      "outputs": []
    },
    {
      "cell_type": "code",
      "source": [
        "train_df.head()"
      ],
      "metadata": {
        "id": "GK3QJPBa8Rbk"
      },
      "execution_count": null,
      "outputs": []
    },
    {
      "cell_type": "code",
      "source": [
        "test_df.head()"
      ],
      "metadata": {
        "id": "NHR7wNc48ReY"
      },
      "execution_count": null,
      "outputs": []
    },
    {
      "cell_type": "code",
      "source": [
        "analy_count = CountVectorizer(tokenizer= nltk.word_tokenize)\n",
        "analy_count.fit(train_df['text'])\n",
        "\n",
        "X_train = analy_count.transform(train_df['text'])\n",
        "y_train = train_df['emotion']\n",
        "\n",
        "X_test = analy_count.transform(test_df['text'])"
      ],
      "metadata": {
        "id": "HRjPgP8B8pzu"
      },
      "execution_count": null,
      "outputs": []
    },
    {
      "cell_type": "code",
      "source": [
        "print('X_train.shape: ', X_train.shape)\n",
        "print('y_train.shape: ', y_train.shape)\n",
        "print('X_test.shape: ', X_test.shape)"
      ],
      "metadata": {
        "id": "W6A4-I_V8p9k"
      },
      "execution_count": null,
      "outputs": []
    },
    {
      "cell_type": "code",
      "source": [
        "from sklearn.preprocessing import LabelEncoder\n",
        "import keras\n",
        "\n",
        "label_encoder = LabelEncoder()\n",
        "label_encoder.fit(y_train)\n",
        "\n",
        "def label_encode(le, labels):\n",
        "    enc = le.transform(labels)\n",
        "    return keras.utils.to_categorical(enc)\n",
        "\n",
        "def label_decode(le, one_hot_label):\n",
        "    dec = np.argmax(one_hot_label, axis=1)\n",
        "    return le.inverse_transform(dec)\n",
        "\n",
        "y_train = label_encode(label_encoder, y_train)"
      ],
      "metadata": {
        "id": "891pvyMn8vN4"
      },
      "execution_count": null,
      "outputs": []
    },
    {
      "cell_type": "code",
      "source": [
        "from sklearn.preprocessing import LabelEncoder\n",
        "\n",
        "label_encoder = LabelEncoder()\n",
        "label_encoder.fit(y_train)\n",
        "\n",
        "def label_encode(le, labels):\n",
        "    enc = le.transform(labels)\n",
        "    return keras.utils.to_categorical(enc)\n",
        "\n",
        "def label_decode(le, one_hot_label):\n",
        "    dec = np.argmax(one_hot_label, axis=1)\n",
        "    return le.inverse_transform(dec)\n",
        "\n",
        "y_train = label_encode(label_encoder, y_train)"
      ],
      "metadata": {
        "id": "MzUi0xNJ8vQr"
      },
      "execution_count": null,
      "outputs": []
    },
    {
      "cell_type": "code",
      "source": [
        "from keras.models import Model\n",
        "from keras.models import Sequential\n",
        "from keras.layers import Input, Dense, Activation, Dropout\n",
        "from keras.layers import ReLU, Softmax\n",
        "\n",
        "model = Sequential()\n",
        "model.add(Dense(64, input_shape=(input_shape,)))\n",
        "model.add(Activation('relu'))\n",
        "model.add(Dropout(0.5))\n",
        "model.add(Dense(32))\n",
        "model.add(Activation('relu'))\n",
        "model.add(Dropout(0.5))\n",
        "model.add(Dense(units = output_shape))\n",
        "model.add(Activation('softmax'))\n",
        "\n",
        "model.compile(optimizer='adam',\n",
        "              loss='categorical_crossentropy',\n",
        "              metrics=['accuracy'])\n",
        "\n",
        "# show model construction\n",
        "model.summary()"
      ],
      "metadata": {
        "id": "wXUhzyx_8vTo"
      },
      "execution_count": null,
      "outputs": []
    },
    {
      "cell_type": "code",
      "source": [
        "from keras.callbacks import CSVLogger\n",
        "\n",
        "csv_logger = CSVLogger('logs/training_log.csv')\n",
        "\n",
        "# training setting\n",
        "epochs = 7\n",
        "batch_size = 128\n",
        "\n",
        "# training!\n",
        "history = model.fit(X_train, y_train,\n",
        "                    epochs=epochs,\n",
        "                    batch_size=batch_size,\n",
        "                    verbose = 1,\n",
        "                    callbacks=[csv_logger],)\n",
        "print('training finish')"
      ],
      "metadata": {
        "id": "RHPjS8p-80RS"
      },
      "execution_count": null,
      "outputs": []
    },
    {
      "cell_type": "code",
      "source": [
        "pred_result = model.predict(X_test, batch_size=128)\n",
        "pred_result[:5]"
      ],
      "metadata": {
        "id": "fsOYhnWS80Y7"
      },
      "execution_count": null,
      "outputs": []
    },
    {
      "cell_type": "code",
      "source": [],
      "metadata": {
        "id": "In-RVMxm80fe"
      },
      "execution_count": null,
      "outputs": []
    },
    {
      "cell_type": "code",
      "source": [],
      "metadata": {
        "id": "cPiulEwG8vWT"
      },
      "execution_count": null,
      "outputs": []
    },
    {
      "cell_type": "code",
      "source": [],
      "metadata": {
        "id": "mOb37bt28qFa"
      },
      "execution_count": null,
      "outputs": []
    }
  ]
}